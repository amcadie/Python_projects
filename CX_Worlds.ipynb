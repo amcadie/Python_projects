{
 "cells": [
  {
   "cell_type": "markdown",
   "metadata": {},
   "source": [
    "#Is There a Home Course Advantage in UCI Cyclocross Worlds?\n",
    "\n",
    "It is getting to be the heart of the season for Euro cyclocross racing, and I'm getting excited for this year's worlds in Heusden-Zolder, Belgium.  I started to wonder if historically there has been an advantage to racers having the event hosted by their home country.  It obviously wasn't strong enough for JPow to win last year, but perhaps historically having a crowd cheering you on, riding a possibly familiar course, or at the very least not having to travel a long way and be off schedule could give a rider an extra edge.  Conveniently, the data I need to answer this question is already tabulated on on this [Cyclocross Magazine page](http://www.cxmagazine.com/past-and-present-cyclocross-world-champions-world-championship-winners).  It would also be cool to look at the women's and U23 races, but at this point, there isn't too much history to analyze.  One obvious caveat is that there have been a lot of races in Belgium, and there are also a lot of Belgian racers.  With that in mind, let's have a look."
   ]
  },
  {
   "cell_type": "code",
   "execution_count": 1,
   "metadata": {
    "collapsed": true
   },
   "outputs": [],
   "source": [
    "from bs4 import BeautifulSoup\n",
    "import urllib2\n",
    "import pandas as pd\n",
    "from ggplot import *\n",
    "import re"
   ]
  },
  {
   "cell_type": "code",
   "execution_count": 2,
   "metadata": {
    "collapsed": false,
    "scrolled": true
   },
   "outputs": [
    {
     "name": "stdout",
     "output_type": "stream",
     "text": [
      "[<tr>\n",
      "<td height=\"17\" width=\"52\"><strong>Year</strong></td>\n",
      "<td width=\"164\"><strong>City</strong></td>\n",
      "<td width=\"142\"><strong>Gold</strong></td>\n",
      "<td width=\"147\"><strong>Silver</strong></td>\n",
      "<td width=\"145\"><strong>Bronze</strong></td>\n",
      "</tr>, <tr>\n",
      "<td height=\"17\" width=\"52\">1950</td>\n",
      "<td width=\"164\">Paris, France</td>\n",
      "<td width=\"142\">Jean Robic (FRA)</td>\n",
      "<td width=\"147\">Roger Rondeaux (FRA)</td>\n",
      "<td width=\"145\">Pierre Jodet (FRA)</td>\n",
      "</tr>]\n",
      "[<tr>\n",
      "<td height=\"17\" width=\"52\"><strong>Year</strong></td>\n",
      "<td width=\"164\"><strong>City</strong></td>\n",
      "<td width=\"142\"><strong>Gold</strong></td>\n",
      "<td width=\"147\"><strong>Silver</strong></td>\n",
      "<td width=\"145\"><strong>Bronze</strong></td>\n",
      "</tr>, <tr>\n",
      "<td height=\"17\" width=\"52\">2000</td>\n",
      "<td width=\"164\">Sint-Michielsgestel, Netherlands</td>\n",
      "<td width=\"142\">Hanka Kupfernagel (GER)</td>\n",
      "<td width=\"147\">Louise Robinson (GBR)</td>\n",
      "<td width=\"145\">Daphny van den Brand (NED)</td>\n",
      "</tr>]\n",
      "[<tr>\n",
      "<td height=\"13\" width=\"35\"><strong>Year</strong></td>\n",
      "<td width=\"170\"><strong>City</strong></td>\n",
      "<td width=\"150\"><strong>Gold</strong></td>\n",
      "<td width=\"157\"><strong>Silver</strong></td>\n",
      "<td width=\"135\"><strong>Bronze</strong></td>\n",
      "</tr>, <tr>\n",
      "<td height=\"13\">1996</td>\n",
      "<td>Montreuil, France</td>\n",
      "<td>Miguel Martinez (FRA)</td>\n",
      "<td>Patrick Blum (SUI)</td>\n",
      "<td>Zydenek Mlynar (CZE)</td>\n",
      "</tr>]\n",
      "[<tr>\n",
      "<td height=\"13\" width=\"43\"><strong>Year</strong></td>\n",
      "<td width=\"102\"><strong>City</strong></td>\n",
      "<td width=\"169\"><strong>Gold</strong></td>\n",
      "<td width=\"158\"><strong>Silver</strong></td>\n",
      "<td width=\"145\"><strong>Bronze</strong></td>\n",
      "</tr>, <tr>\n",
      "<td height=\"13\">1979</td>\n",
      "<td>Saccolongo, Italy</td>\n",
      "<td>José Iñaki Vijandi Alvarez (ESP)</td>\n",
      "<td>Bart Musschoolt (BEL)</td>\n",
      "<td>Heinz Matschke (GER)</td>\n",
      "</tr>]\n"
     ]
    }
   ],
   "source": [
    "url = 'http://www.cxmagazine.com/past-and-present-cyclocross-world-champions-world-championship-winners'\n",
    "\n",
    "user_agent = 'Mozilla/5.0 (Macintosh; Intel Mac OS X 10_9_5) AppleWebKit/537.36 (KHTML, like Gecko) \\\n",
    "Chrome/47.0.2526.106 Safari/537.36' #must specify User-Agent because default gives 403 forbidden error\n",
    "\n",
    "req = urllib2.Request(url, headers = {'User-Agent' : user_agent})\n",
    "\n",
    "try:\n",
    "    page_html = urllib2.urlopen(req)\n",
    "except:\n",
    "    print 'Unable to complete request'\n",
    "    exit()\n",
    "\n",
    "soup = BeautifulSoup(page_html)\n",
    "\n",
    "tables = soup.find_all('table')\n",
    "\n",
    "#print off the first few rows to see which table contains the Men's Elite records\n",
    "for table in tables:\n",
    "    rows = table.find_all('tr')\n",
    "    print rows[:2]\n"
   ]
  },
  {
   "cell_type": "code",
   "execution_count": 3,
   "metadata": {
    "collapsed": false
   },
   "outputs": [],
   "source": [
    "#the first table is the one we are looking for\n",
    "mens_worlds = tables[0]\n",
    "\n",
    "#define new arrays to house the scraped data\n",
    "year = []\n",
    "city = []\n",
    "gold = []\n",
    "silver = []\n",
    "bronze = []\n",
    "\n",
    "for row in mens_worlds.find_all('tr')[1:-1]: #rows are contained within <tr> pairs\n",
    "    cols = row.find_all('td') \n",
    "    year.append(cols[0].string.strip())\n",
    "    city.append(cols[1].string.strip())\n",
    "    gold.append(cols[2].string.strip())\n",
    "    silver.append(cols[3].string.strip())\n",
    "    bronze.append(cols[4].string.strip())"
   ]
  },
  {
   "cell_type": "code",
   "execution_count": 4,
   "metadata": {
    "collapsed": false
   },
   "outputs": [
    {
     "data": {
      "text/html": [
       "<div>\n",
       "<table border=\"1\" class=\"dataframe\">\n",
       "  <thead>\n",
       "    <tr style=\"text-align: right;\">\n",
       "      <th></th>\n",
       "      <th>Bronze</th>\n",
       "      <th>City</th>\n",
       "      <th>Gold</th>\n",
       "      <th>Silver</th>\n",
       "      <th>Year</th>\n",
       "    </tr>\n",
       "  </thead>\n",
       "  <tbody>\n",
       "    <tr>\n",
       "      <th>0</th>\n",
       "      <td>Pierre Jodet (FRA)</td>\n",
       "      <td>Paris, France</td>\n",
       "      <td>Jean Robic (FRA)</td>\n",
       "      <td>Roger Rondeaux (FRA)</td>\n",
       "      <td>1950</td>\n",
       "    </tr>\n",
       "    <tr>\n",
       "      <th>1</th>\n",
       "      <td>Pierre Jodet (FRA)</td>\n",
       "      <td>Luxembourg, Luxembourg</td>\n",
       "      <td>Roger Rondeaux (FRA)</td>\n",
       "      <td>André Dufraisse (FRA)</td>\n",
       "      <td>1951</td>\n",
       "    </tr>\n",
       "    <tr>\n",
       "      <th>2</th>\n",
       "      <td>Albert Meier (SUI)</td>\n",
       "      <td>Geneva, Switzerland</td>\n",
       "      <td>Roger Rondeaux (FRA)</td>\n",
       "      <td>André Dufraisse (FRA)</td>\n",
       "      <td>1952</td>\n",
       "    </tr>\n",
       "    <tr>\n",
       "      <th>3</th>\n",
       "      <td>André Dufraisse (FRA)</td>\n",
       "      <td>Quato, Spain</td>\n",
       "      <td>Roger Rondeaux (FRA)</td>\n",
       "      <td>Gilbert Bauvin (FRA)</td>\n",
       "      <td>1953</td>\n",
       "    </tr>\n",
       "    <tr>\n",
       "      <th>4</th>\n",
       "      <td>Hans Bieri (SUI)</td>\n",
       "      <td>Crenna, Italy</td>\n",
       "      <td>André Dufraisse (FRA)</td>\n",
       "      <td>Pierre Jodet (FRA)</td>\n",
       "      <td>1954</td>\n",
       "    </tr>\n",
       "  </tbody>\n",
       "</table>\n",
       "</div>"
      ],
      "text/plain": [
       "                  Bronze                    City                   Gold  \\\n",
       "0     Pierre Jodet (FRA)           Paris, France       Jean Robic (FRA)   \n",
       "1     Pierre Jodet (FRA)  Luxembourg, Luxembourg   Roger Rondeaux (FRA)   \n",
       "2     Albert Meier (SUI)     Geneva, Switzerland   Roger Rondeaux (FRA)   \n",
       "3  André Dufraisse (FRA)            Quato, Spain   Roger Rondeaux (FRA)   \n",
       "4       Hans Bieri (SUI)           Crenna, Italy  André Dufraisse (FRA)   \n",
       "\n",
       "                  Silver  Year  \n",
       "0   Roger Rondeaux (FRA)  1950  \n",
       "1  André Dufraisse (FRA)  1951  \n",
       "2  André Dufraisse (FRA)  1952  \n",
       "3   Gilbert Bauvin (FRA)  1953  \n",
       "4     Pierre Jodet (FRA)  1954  "
      ]
     },
     "execution_count": 4,
     "metadata": {},
     "output_type": "execute_result"
    }
   ],
   "source": [
    "worlds = pd.DataFrame({'Year' : year, 'City' : city, 'Gold' : gold, 'Silver' : silver, 'Bronze' : bronze})\n",
    "worlds.head()"
   ]
  },
  {
   "cell_type": "code",
   "execution_count": 5,
   "metadata": {
    "collapsed": false
   },
   "outputs": [
    {
     "data": {
      "text/html": [
       "<div>\n",
       "<table border=\"1\" class=\"dataframe\">\n",
       "  <thead>\n",
       "    <tr style=\"text-align: right;\">\n",
       "      <th></th>\n",
       "      <th>Year</th>\n",
       "      <th>City</th>\n",
       "      <th>Gold</th>\n",
       "      <th>Silver</th>\n",
       "      <th>Bronze</th>\n",
       "    </tr>\n",
       "  </thead>\n",
       "  <tbody>\n",
       "    <tr>\n",
       "      <th>0</th>\n",
       "      <td>1950</td>\n",
       "      <td>Paris, France</td>\n",
       "      <td>Jean Robic (FRA)</td>\n",
       "      <td>Roger Rondeaux (FRA)</td>\n",
       "      <td>Pierre Jodet (FRA)</td>\n",
       "    </tr>\n",
       "    <tr>\n",
       "      <th>1</th>\n",
       "      <td>1951</td>\n",
       "      <td>Luxembourg, Luxembourg</td>\n",
       "      <td>Roger Rondeaux (FRA)</td>\n",
       "      <td>André Dufraisse (FRA)</td>\n",
       "      <td>Pierre Jodet (FRA)</td>\n",
       "    </tr>\n",
       "    <tr>\n",
       "      <th>2</th>\n",
       "      <td>1952</td>\n",
       "      <td>Geneva, Switzerland</td>\n",
       "      <td>Roger Rondeaux (FRA)</td>\n",
       "      <td>André Dufraisse (FRA)</td>\n",
       "      <td>Albert Meier (SUI)</td>\n",
       "    </tr>\n",
       "    <tr>\n",
       "      <th>3</th>\n",
       "      <td>1953</td>\n",
       "      <td>Quato, Spain</td>\n",
       "      <td>Roger Rondeaux (FRA)</td>\n",
       "      <td>Gilbert Bauvin (FRA)</td>\n",
       "      <td>André Dufraisse (FRA)</td>\n",
       "    </tr>\n",
       "    <tr>\n",
       "      <th>4</th>\n",
       "      <td>1954</td>\n",
       "      <td>Crenna, Italy</td>\n",
       "      <td>André Dufraisse (FRA)</td>\n",
       "      <td>Pierre Jodet (FRA)</td>\n",
       "      <td>Hans Bieri (SUI)</td>\n",
       "    </tr>\n",
       "  </tbody>\n",
       "</table>\n",
       "</div>"
      ],
      "text/plain": [
       "   Year                    City                   Gold                 Silver  \\\n",
       "0  1950           Paris, France       Jean Robic (FRA)   Roger Rondeaux (FRA)   \n",
       "1  1951  Luxembourg, Luxembourg   Roger Rondeaux (FRA)  André Dufraisse (FRA)   \n",
       "2  1952     Geneva, Switzerland   Roger Rondeaux (FRA)  André Dufraisse (FRA)   \n",
       "3  1953            Quato, Spain   Roger Rondeaux (FRA)   Gilbert Bauvin (FRA)   \n",
       "4  1954           Crenna, Italy  André Dufraisse (FRA)     Pierre Jodet (FRA)   \n",
       "\n",
       "                  Bronze  \n",
       "0     Pierre Jodet (FRA)  \n",
       "1     Pierre Jodet (FRA)  \n",
       "2     Albert Meier (SUI)  \n",
       "3  André Dufraisse (FRA)  \n",
       "4       Hans Bieri (SUI)  "
      ]
     },
     "execution_count": 5,
     "metadata": {},
     "output_type": "execute_result"
    }
   ],
   "source": [
    "worlds = worlds.loc[:,['Year', 'City', 'Gold', 'Silver', 'Bronze']]\n",
    "worlds.head()"
   ]
  },
  {
   "cell_type": "code",
   "execution_count": 6,
   "metadata": {
    "collapsed": false
   },
   "outputs": [],
   "source": [
    "#now to extract the three letter country abbreviation from each element\n",
    "cntry = re.compile(r'\\(([A-Z]{3})\\)')\n",
    "worlds['Gold_country'] = [cntry.findall(winner)[0] for winner in worlds['Gold']]\n",
    "worlds['Silver_country'] = [cntry.findall(winner)[0] for winner in worlds['Silver']]\n",
    "worlds['Bronze_country'] = [cntry.findall(winner)[0] for winner in worlds['Bronze']]"
   ]
  },
  {
   "cell_type": "code",
   "execution_count": 7,
   "metadata": {
    "collapsed": false
   },
   "outputs": [
    {
     "data": {
      "text/html": [
       "<div>\n",
       "<table border=\"1\" class=\"dataframe\">\n",
       "  <thead>\n",
       "    <tr style=\"text-align: right;\">\n",
       "      <th></th>\n",
       "      <th>Year</th>\n",
       "      <th>City</th>\n",
       "      <th>Gold</th>\n",
       "      <th>Silver</th>\n",
       "      <th>Bronze</th>\n",
       "      <th>Gold_country</th>\n",
       "      <th>Silver_country</th>\n",
       "      <th>Bronze_country</th>\n",
       "    </tr>\n",
       "  </thead>\n",
       "  <tbody>\n",
       "    <tr>\n",
       "      <th>0</th>\n",
       "      <td>1950</td>\n",
       "      <td>Paris, France</td>\n",
       "      <td>Jean Robic (FRA)</td>\n",
       "      <td>Roger Rondeaux (FRA)</td>\n",
       "      <td>Pierre Jodet (FRA)</td>\n",
       "      <td>FRA</td>\n",
       "      <td>FRA</td>\n",
       "      <td>FRA</td>\n",
       "    </tr>\n",
       "    <tr>\n",
       "      <th>1</th>\n",
       "      <td>1951</td>\n",
       "      <td>Luxembourg, Luxembourg</td>\n",
       "      <td>Roger Rondeaux (FRA)</td>\n",
       "      <td>André Dufraisse (FRA)</td>\n",
       "      <td>Pierre Jodet (FRA)</td>\n",
       "      <td>FRA</td>\n",
       "      <td>FRA</td>\n",
       "      <td>FRA</td>\n",
       "    </tr>\n",
       "    <tr>\n",
       "      <th>2</th>\n",
       "      <td>1952</td>\n",
       "      <td>Geneva, Switzerland</td>\n",
       "      <td>Roger Rondeaux (FRA)</td>\n",
       "      <td>André Dufraisse (FRA)</td>\n",
       "      <td>Albert Meier (SUI)</td>\n",
       "      <td>FRA</td>\n",
       "      <td>FRA</td>\n",
       "      <td>SUI</td>\n",
       "    </tr>\n",
       "    <tr>\n",
       "      <th>3</th>\n",
       "      <td>1953</td>\n",
       "      <td>Quato, Spain</td>\n",
       "      <td>Roger Rondeaux (FRA)</td>\n",
       "      <td>Gilbert Bauvin (FRA)</td>\n",
       "      <td>André Dufraisse (FRA)</td>\n",
       "      <td>FRA</td>\n",
       "      <td>FRA</td>\n",
       "      <td>FRA</td>\n",
       "    </tr>\n",
       "    <tr>\n",
       "      <th>4</th>\n",
       "      <td>1954</td>\n",
       "      <td>Crenna, Italy</td>\n",
       "      <td>André Dufraisse (FRA)</td>\n",
       "      <td>Pierre Jodet (FRA)</td>\n",
       "      <td>Hans Bieri (SUI)</td>\n",
       "      <td>FRA</td>\n",
       "      <td>FRA</td>\n",
       "      <td>SUI</td>\n",
       "    </tr>\n",
       "  </tbody>\n",
       "</table>\n",
       "</div>"
      ],
      "text/plain": [
       "   Year                    City                   Gold                 Silver  \\\n",
       "0  1950           Paris, France       Jean Robic (FRA)   Roger Rondeaux (FRA)   \n",
       "1  1951  Luxembourg, Luxembourg   Roger Rondeaux (FRA)  André Dufraisse (FRA)   \n",
       "2  1952     Geneva, Switzerland   Roger Rondeaux (FRA)  André Dufraisse (FRA)   \n",
       "3  1953            Quato, Spain   Roger Rondeaux (FRA)   Gilbert Bauvin (FRA)   \n",
       "4  1954           Crenna, Italy  André Dufraisse (FRA)     Pierre Jodet (FRA)   \n",
       "\n",
       "                  Bronze Gold_country Silver_country Bronze_country  \n",
       "0     Pierre Jodet (FRA)          FRA            FRA            FRA  \n",
       "1     Pierre Jodet (FRA)          FRA            FRA            FRA  \n",
       "2     Albert Meier (SUI)          FRA            FRA            SUI  \n",
       "3  André Dufraisse (FRA)          FRA            FRA            FRA  \n",
       "4       Hans Bieri (SUI)          FRA            FRA            SUI  "
      ]
     },
     "execution_count": 7,
     "metadata": {},
     "output_type": "execute_result"
    }
   ],
   "source": [
    "worlds.head()"
   ]
  },
  {
   "cell_type": "code",
   "execution_count": 8,
   "metadata": {
    "collapsed": false
   },
   "outputs": [
    {
     "data": {
      "text/plain": [
       "3"
      ]
     },
     "execution_count": 8,
     "metadata": {},
     "output_type": "execute_result"
    }
   ],
   "source": [
    "#We can now pull a table of three letter country codes from wikipedia to convert the winner's country and compare\n",
    "#it against the host country\n",
    "\n",
    "url = 'https://en.wikipedia.org/wiki/ISO_3166-1_alpha-3'\n",
    "\n",
    "page_html = urllib2.urlopen(url)\n",
    "\n",
    "soup = BeautifulSoup(page_html)\n",
    "\n",
    "tables = soup.find_all('table')\n",
    "\n",
    "#From looking at the page, the correct table should be the first one.\n",
    "#Now to capture the relevant information in lists.\n",
    "abbrev = []\n",
    "country = []\n",
    "\n",
    "#this table is formatted in a kind of tricky way, three tables nested in <td> tags under the main table\n",
    "\n",
    "column_tables = tables[0].find_all('table')\n",
    "\n",
    "len(column_tables)"
   ]
  },
  {
   "cell_type": "code",
   "execution_count": 9,
   "metadata": {
    "collapsed": false
   },
   "outputs": [
    {
     "data": {
      "text/plain": [
       "3"
      ]
     },
     "execution_count": 9,
     "metadata": {},
     "output_type": "execute_result"
    }
   ],
   "source": [
    "#Ok, that's it.  Now to capture the relevant information in lists.\n",
    "abbrev = []\n",
    "country = []\n",
    "\n",
    "#this table is formatted in a kind of tricky way, three tables nested in <td> tags under the main table\n",
    "\n",
    "column_tables = tables[0].find_all('table')\n",
    "\n",
    "len(column_tables)"
   ]
  },
  {
   "cell_type": "code",
   "execution_count": 10,
   "metadata": {
    "collapsed": false
   },
   "outputs": [],
   "source": [
    "for i in range(3):\n",
    "    for row in column_tables[i].find_all('tr'):\n",
    "        cols = row.find_all('td')\n",
    "        abbrev.append(cols[0].string.strip())\n",
    "        country.append(cols[1].string.strip())\n",
    "    "
   ]
  },
  {
   "cell_type": "code",
   "execution_count": 11,
   "metadata": {
    "collapsed": false
   },
   "outputs": [
    {
     "name": "stdout",
     "output_type": "stream",
     "text": [
      "[u'ABW', u'AFG', u'AGO', u'AIA', u'ALA', u'ALB', u'AND', u'ARE', u'ARG', u'ARM'] [u'Aruba', u'Afghanistan', u'Angola', u'Anguilla', u'\\xc5land Islands', u'Albania', u'Andorra', u'United Arab Emirates', u'Argentina', u'Armenia']\n"
     ]
    }
   ],
   "source": [
    "print abbrev[:10], country[:10]"
   ]
  },
  {
   "cell_type": "code",
   "execution_count": 12,
   "metadata": {
    "collapsed": false
   },
   "outputs": [],
   "source": [
    "#great!  Now to define a dict with the above data as key:value pairs\n",
    "cntry_lookup = {abbrev[i] : country[i] for i in range(len(abbrev))}"
   ]
  },
  {
   "cell_type": "code",
   "execution_count": 13,
   "metadata": {
    "collapsed": false
   },
   "outputs": [],
   "source": [
    "#it appears that there are a few non-standard 3 letter abbreviations in the race results table.  \n",
    "#Let's add those to the dict manually.\n",
    "\n",
    "cntry_lookup['GER'] = 'Germany'\n",
    "cntry_lookup['SUI'] = 'Switzerland'\n",
    "cntry_lookup['NED'] = 'Netherlands'\n",
    "\n",
    "worlds['Gold_country_full'] = [cntry_lookup[worlds.loc[i, 'Gold_country']] for i in range(len(worlds.Gold_country))]"
   ]
  },
  {
   "cell_type": "code",
   "execution_count": 14,
   "metadata": {
    "collapsed": false
   },
   "outputs": [
    {
     "data": {
      "text/html": [
       "<div>\n",
       "<table border=\"1\" class=\"dataframe\">\n",
       "  <thead>\n",
       "    <tr style=\"text-align: right;\">\n",
       "      <th></th>\n",
       "      <th>Year</th>\n",
       "      <th>City</th>\n",
       "      <th>Gold</th>\n",
       "      <th>Silver</th>\n",
       "      <th>Bronze</th>\n",
       "      <th>Gold_country</th>\n",
       "      <th>Silver_country</th>\n",
       "      <th>Bronze_country</th>\n",
       "      <th>Gold_country_full</th>\n",
       "    </tr>\n",
       "  </thead>\n",
       "  <tbody>\n",
       "    <tr>\n",
       "      <th>0</th>\n",
       "      <td>1950</td>\n",
       "      <td>Paris, France</td>\n",
       "      <td>Jean Robic (FRA)</td>\n",
       "      <td>Roger Rondeaux (FRA)</td>\n",
       "      <td>Pierre Jodet (FRA)</td>\n",
       "      <td>FRA</td>\n",
       "      <td>FRA</td>\n",
       "      <td>FRA</td>\n",
       "      <td>France</td>\n",
       "    </tr>\n",
       "    <tr>\n",
       "      <th>1</th>\n",
       "      <td>1951</td>\n",
       "      <td>Luxembourg, Luxembourg</td>\n",
       "      <td>Roger Rondeaux (FRA)</td>\n",
       "      <td>André Dufraisse (FRA)</td>\n",
       "      <td>Pierre Jodet (FRA)</td>\n",
       "      <td>FRA</td>\n",
       "      <td>FRA</td>\n",
       "      <td>FRA</td>\n",
       "      <td>France</td>\n",
       "    </tr>\n",
       "    <tr>\n",
       "      <th>2</th>\n",
       "      <td>1952</td>\n",
       "      <td>Geneva, Switzerland</td>\n",
       "      <td>Roger Rondeaux (FRA)</td>\n",
       "      <td>André Dufraisse (FRA)</td>\n",
       "      <td>Albert Meier (SUI)</td>\n",
       "      <td>FRA</td>\n",
       "      <td>FRA</td>\n",
       "      <td>SUI</td>\n",
       "      <td>France</td>\n",
       "    </tr>\n",
       "    <tr>\n",
       "      <th>3</th>\n",
       "      <td>1953</td>\n",
       "      <td>Quato, Spain</td>\n",
       "      <td>Roger Rondeaux (FRA)</td>\n",
       "      <td>Gilbert Bauvin (FRA)</td>\n",
       "      <td>André Dufraisse (FRA)</td>\n",
       "      <td>FRA</td>\n",
       "      <td>FRA</td>\n",
       "      <td>FRA</td>\n",
       "      <td>France</td>\n",
       "    </tr>\n",
       "    <tr>\n",
       "      <th>4</th>\n",
       "      <td>1954</td>\n",
       "      <td>Crenna, Italy</td>\n",
       "      <td>André Dufraisse (FRA)</td>\n",
       "      <td>Pierre Jodet (FRA)</td>\n",
       "      <td>Hans Bieri (SUI)</td>\n",
       "      <td>FRA</td>\n",
       "      <td>FRA</td>\n",
       "      <td>SUI</td>\n",
       "      <td>France</td>\n",
       "    </tr>\n",
       "  </tbody>\n",
       "</table>\n",
       "</div>"
      ],
      "text/plain": [
       "   Year                    City                   Gold                 Silver  \\\n",
       "0  1950           Paris, France       Jean Robic (FRA)   Roger Rondeaux (FRA)   \n",
       "1  1951  Luxembourg, Luxembourg   Roger Rondeaux (FRA)  André Dufraisse (FRA)   \n",
       "2  1952     Geneva, Switzerland   Roger Rondeaux (FRA)  André Dufraisse (FRA)   \n",
       "3  1953            Quato, Spain   Roger Rondeaux (FRA)   Gilbert Bauvin (FRA)   \n",
       "4  1954           Crenna, Italy  André Dufraisse (FRA)     Pierre Jodet (FRA)   \n",
       "\n",
       "                  Bronze Gold_country Silver_country Bronze_country  \\\n",
       "0     Pierre Jodet (FRA)          FRA            FRA            FRA   \n",
       "1     Pierre Jodet (FRA)          FRA            FRA            FRA   \n",
       "2     Albert Meier (SUI)          FRA            FRA            SUI   \n",
       "3  André Dufraisse (FRA)          FRA            FRA            FRA   \n",
       "4       Hans Bieri (SUI)          FRA            FRA            SUI   \n",
       "\n",
       "  Gold_country_full  \n",
       "0            France  \n",
       "1            France  \n",
       "2            France  \n",
       "3            France  \n",
       "4            France  "
      ]
     },
     "execution_count": 14,
     "metadata": {},
     "output_type": "execute_result"
    }
   ],
   "source": [
    "worlds.head()"
   ]
  },
  {
   "cell_type": "code",
   "execution_count": 15,
   "metadata": {
    "collapsed": false
   },
   "outputs": [
    {
     "data": {
      "text/plain": [
       "0.2153846153846154"
      ]
     },
     "execution_count": 15,
     "metadata": {},
     "output_type": "execute_result"
    }
   ],
   "source": [
    "#ok, now we can finally calculate the proportion of time the winner won on a home course\n",
    "\n",
    "home_win = [worlds.Gold_country_full[i] in worlds.City[i] for i in range(len(worlds.City))]\n",
    "\n",
    "float(sum(home_win))/float(len(worlds.City))"
   ]
  },
  {
   "cell_type": "markdown",
   "metadata": {},
   "source": [
    "A little over 20% of the time, the race winner hailed from the host country.  At first glance, it seems like that could indicate some advantage of racing on home dirt.  It would be interesting to do some further investigation to determine if in these cases the winner was one of the dominant riders in that season, and thus would be expected to win anywhere, or whether there were some instances of an upset spurred on by some small advantage."
   ]
  }
 ],
 "metadata": {
  "kernelspec": {
   "display_name": "Python 2",
   "language": "python",
   "name": "python2"
  },
  "language_info": {
   "codemirror_mode": {
    "name": "ipython",
    "version": 2
   },
   "file_extension": ".py",
   "mimetype": "text/x-python",
   "name": "python",
   "nbconvert_exporter": "python",
   "pygments_lexer": "ipython2",
   "version": "2.7.10"
  }
 },
 "nbformat": 4,
 "nbformat_minor": 0
}
