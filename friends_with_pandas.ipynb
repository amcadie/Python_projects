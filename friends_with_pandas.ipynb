{
 "cells": [
  {
   "cell_type": "markdown",
   "metadata": {},
   "source": [
    "##Making Friends with Pandas\n",
    "###A Look at Jon Stewart's Historical Guest Record"
   ]
  },
  {
   "cell_type": "markdown",
   "metadata": {},
   "source": [
    "I'd like to get more comfortable with manipulating and analyzing structured data in Python, as that is the foundation of pretty much any analysis.  This fun data set will serve as an opportunity to explore the similarities and differences between Pandas and data frames in R."
   ]
  },
  {
   "cell_type": "code",
   "execution_count": 1,
   "metadata": {
    "collapsed": true,
    "scrolled": true
   },
   "outputs": [],
   "source": [
    "import pandas as pd\n",
    "import numpy as np"
   ]
  },
  {
   "cell_type": "code",
   "execution_count": 2,
   "metadata": {
    "collapsed": false,
    "scrolled": true
   },
   "outputs": [],
   "source": [
    "#Thanks to FiveThirtyEight for getting this dataset together\n",
    "guests = pd.read_csv('https://raw.githubusercontent.com/fivethirtyeight/data/master/daily-show-guests/daily_show_guests.csv')"
   ]
  },
  {
   "cell_type": "markdown",
   "metadata": {},
   "source": [
    "There is one notable difference right away.  It is quite straightforward to read a csv directly from the web, even with SSL encryption.  This takes several lines of code in R."
   ]
  },
  {
   "cell_type": "code",
   "execution_count": 3,
   "metadata": {
    "collapsed": false,
    "scrolled": true
   },
   "outputs": [
    {
     "data": {
      "text/html": [
       "<div>\n",
       "<table border=\"1\" class=\"dataframe\">\n",
       "  <thead>\n",
       "    <tr style=\"text-align: right;\">\n",
       "      <th></th>\n",
       "      <th>YEAR</th>\n",
       "      <th>GoogleKnowlege_Occupation</th>\n",
       "      <th>Show</th>\n",
       "      <th>Group</th>\n",
       "      <th>Raw_Guest_List</th>\n",
       "    </tr>\n",
       "  </thead>\n",
       "  <tbody>\n",
       "    <tr>\n",
       "      <th>0</th>\n",
       "      <td>1999</td>\n",
       "      <td>actor</td>\n",
       "      <td>1/11/99</td>\n",
       "      <td>Acting</td>\n",
       "      <td>Michael J. Fox</td>\n",
       "    </tr>\n",
       "    <tr>\n",
       "      <th>1</th>\n",
       "      <td>1999</td>\n",
       "      <td>Comedian</td>\n",
       "      <td>1/12/99</td>\n",
       "      <td>Comedy</td>\n",
       "      <td>Sandra Bernhard</td>\n",
       "    </tr>\n",
       "    <tr>\n",
       "      <th>2</th>\n",
       "      <td>1999</td>\n",
       "      <td>television actress</td>\n",
       "      <td>1/13/99</td>\n",
       "      <td>Acting</td>\n",
       "      <td>Tracey Ullman</td>\n",
       "    </tr>\n",
       "    <tr>\n",
       "      <th>3</th>\n",
       "      <td>1999</td>\n",
       "      <td>film actress</td>\n",
       "      <td>1/14/99</td>\n",
       "      <td>Acting</td>\n",
       "      <td>Gillian Anderson</td>\n",
       "    </tr>\n",
       "    <tr>\n",
       "      <th>4</th>\n",
       "      <td>1999</td>\n",
       "      <td>actor</td>\n",
       "      <td>1/18/99</td>\n",
       "      <td>Acting</td>\n",
       "      <td>David Alan Grier</td>\n",
       "    </tr>\n",
       "  </tbody>\n",
       "</table>\n",
       "</div>"
      ],
      "text/plain": [
       "   YEAR GoogleKnowlege_Occupation     Show   Group    Raw_Guest_List\n",
       "0  1999                     actor  1/11/99  Acting    Michael J. Fox\n",
       "1  1999                  Comedian  1/12/99  Comedy   Sandra Bernhard\n",
       "2  1999        television actress  1/13/99  Acting     Tracey Ullman\n",
       "3  1999              film actress  1/14/99  Acting  Gillian Anderson\n",
       "4  1999                     actor  1/18/99  Acting  David Alan Grier"
      ]
     },
     "execution_count": 3,
     "metadata": {},
     "output_type": "execute_result"
    }
   ],
   "source": [
    "guests.head()"
   ]
  },
  {
   "cell_type": "code",
   "execution_count": 4,
   "metadata": {
    "collapsed": false,
    "scrolled": true
   },
   "outputs": [
    {
     "data": {
      "text/plain": [
       "0    1999\n",
       "1    1999\n",
       "2    1999\n",
       "3    1999\n",
       "4    1999\n",
       "Name: YEAR, dtype: int64"
      ]
     },
     "execution_count": 4,
     "metadata": {},
     "output_type": "execute_result"
    }
   ],
   "source": [
    "guests.YEAR.head()"
   ]
  },
  {
   "cell_type": "markdown",
   "metadata": {},
   "source": [
    "Columns within the data frame can be accessed using the attribute operator (.).  Now how about slicing off the first year of data, with the Year, Show, Group, and Raw_Guest_List columns."
   ]
  },
  {
   "cell_type": "code",
   "execution_count": 5,
   "metadata": {
    "collapsed": false,
    "scrolled": true
   },
   "outputs": [],
   "source": [
    "guests99 = guests[guests.YEAR == 1999]"
   ]
  },
  {
   "cell_type": "code",
   "execution_count": 6,
   "metadata": {
    "collapsed": false,
    "scrolled": true
   },
   "outputs": [
    {
     "data": {
      "text/plain": [
       "(166, 5)"
      ]
     },
     "execution_count": 6,
     "metadata": {},
     "output_type": "execute_result"
    }
   ],
   "source": [
    "guests99.shape"
   ]
  },
  {
   "cell_type": "code",
   "execution_count": 7,
   "metadata": {
    "collapsed": true,
    "scrolled": true
   },
   "outputs": [],
   "source": [
    "guests99 = guests99.ix[:, [0, 2, 3, 4]] #ix method supports label based and location based indexing"
   ]
  },
  {
   "cell_type": "code",
   "execution_count": 8,
   "metadata": {
    "collapsed": false,
    "scrolled": true
   },
   "outputs": [
    {
     "data": {
      "text/plain": [
       "(166, 4)"
      ]
     },
     "execution_count": 8,
     "metadata": {},
     "output_type": "execute_result"
    }
   ],
   "source": [
    "guests99.shape"
   ]
  },
  {
   "cell_type": "markdown",
   "metadata": {},
   "source": [
    "Great, these indexing methods seem to be working more or less as I'd expect, however I couldn't figure out how to subset the rows using the boolean expression and also subset the columns with their numerical indices within the same line of code.  Now let's try some split-apply-combine techniques, similar to what you could do with plyr in R.  Let's figure out who the most frequent Daily Show guest was in 1999."
   ]
  },
  {
   "cell_type": "code",
   "execution_count": 9,
   "metadata": {
    "collapsed": false,
    "scrolled": true
   },
   "outputs": [],
   "source": [
    "gb = guests99.groupby('Raw_Guest_List', as_index = False)"
   ]
  },
  {
   "cell_type": "code",
   "execution_count": 10,
   "metadata": {
    "collapsed": false,
    "scrolled": true
   },
   "outputs": [
    {
     "data": {
      "text/html": [
       "<div>\n",
       "<table border=\"1\" class=\"dataframe\">\n",
       "  <thead>\n",
       "    <tr style=\"text-align: right;\">\n",
       "      <th></th>\n",
       "      <th>Raw_Guest_List</th>\n",
       "      <th>Shows</th>\n",
       "    </tr>\n",
       "  </thead>\n",
       "  <tbody>\n",
       "    <tr>\n",
       "      <th>0</th>\n",
       "      <td>Adam Arkin</td>\n",
       "      <td>1</td>\n",
       "    </tr>\n",
       "    <tr>\n",
       "      <th>1</th>\n",
       "      <td>Adam Sandler</td>\n",
       "      <td>1</td>\n",
       "    </tr>\n",
       "    <tr>\n",
       "      <th>2</th>\n",
       "      <td>Amy Brenneman</td>\n",
       "      <td>1</td>\n",
       "    </tr>\n",
       "    <tr>\n",
       "      <th>3</th>\n",
       "      <td>Andy Richter</td>\n",
       "      <td>1</td>\n",
       "    </tr>\n",
       "    <tr>\n",
       "      <th>4</th>\n",
       "      <td>Angelina Jolie</td>\n",
       "      <td>1</td>\n",
       "    </tr>\n",
       "  </tbody>\n",
       "</table>\n",
       "</div>"
      ],
      "text/plain": [
       "   Raw_Guest_List  Shows\n",
       "0      Adam Arkin      1\n",
       "1    Adam Sandler      1\n",
       "2   Amy Brenneman      1\n",
       "3    Andy Richter      1\n",
       "4  Angelina Jolie      1"
      ]
     },
     "execution_count": 10,
     "metadata": {},
     "output_type": "execute_result"
    }
   ],
   "source": [
    "show_count = gb['Show'].agg({'Shows' : len}) #return a df with counts of \n",
    "#shows that each guest has been on. Passing a dict to the agg function \n",
    "#allows for choosing a column name if desired.\n",
    "show_count.head()"
   ]
  },
  {
   "cell_type": "code",
   "execution_count": 11,
   "metadata": {
    "collapsed": false,
    "scrolled": true
   },
   "outputs": [
    {
     "data": {
      "text/html": [
       "<div>\n",
       "<table border=\"1\" class=\"dataframe\">\n",
       "  <thead>\n",
       "    <tr style=\"text-align: right;\">\n",
       "      <th></th>\n",
       "      <th>Raw_Guest_List</th>\n",
       "      <th>Shows</th>\n",
       "    </tr>\n",
       "  </thead>\n",
       "  <tbody>\n",
       "    <tr>\n",
       "      <th>103</th>\n",
       "      <td>Pamela Anderson, Natalie Raitano, Molly Culver</td>\n",
       "      <td>3</td>\n",
       "    </tr>\n",
       "    <tr>\n",
       "      <th>150</th>\n",
       "      <td>Yasmine Bleeth</td>\n",
       "      <td>2</td>\n",
       "    </tr>\n",
       "    <tr>\n",
       "      <th>25</th>\n",
       "      <td>Dave Foley</td>\n",
       "      <td>2</td>\n",
       "    </tr>\n",
       "    <tr>\n",
       "      <th>89</th>\n",
       "      <td>Melissa Gilbert</td>\n",
       "      <td>2</td>\n",
       "    </tr>\n",
       "    <tr>\n",
       "      <th>95</th>\n",
       "      <td>Mike Myers</td>\n",
       "      <td>2</td>\n",
       "    </tr>\n",
       "    <tr>\n",
       "      <th>101</th>\n",
       "      <td>Norm Macdonald</td>\n",
       "      <td>2</td>\n",
       "    </tr>\n",
       "    <tr>\n",
       "      <th>55</th>\n",
       "      <td>Hootie &amp; the Blowfish, Billy Crystal</td>\n",
       "      <td>2</td>\n",
       "    </tr>\n",
       "    <tr>\n",
       "      <th>48</th>\n",
       "      <td>George Carlin</td>\n",
       "      <td>2</td>\n",
       "    </tr>\n",
       "    <tr>\n",
       "      <th>45</th>\n",
       "      <td>Frank DeCaro's Oscar Special, John Larroquette</td>\n",
       "      <td>2</td>\n",
       "    </tr>\n",
       "    <tr>\n",
       "      <th>115</th>\n",
       "      <td>Rob Schneider</td>\n",
       "      <td>2</td>\n",
       "    </tr>\n",
       "  </tbody>\n",
       "</table>\n",
       "</div>"
      ],
      "text/plain": [
       "                                     Raw_Guest_List  Shows\n",
       "103  Pamela Anderson, Natalie Raitano, Molly Culver      3\n",
       "150                                  Yasmine Bleeth      2\n",
       "25                                       Dave Foley      2\n",
       "89                                  Melissa Gilbert      2\n",
       "95                                       Mike Myers      2\n",
       "101                                  Norm Macdonald      2\n",
       "55             Hootie & the Blowfish, Billy Crystal      2\n",
       "48                                    George Carlin      2\n",
       "45   Frank DeCaro's Oscar Special, John Larroquette      2\n",
       "115                                   Rob Schneider      2"
      ]
     },
     "execution_count": 11,
     "metadata": {},
     "output_type": "execute_result"
    }
   ],
   "source": [
    "#almost there, now we just need to sort the new data frame to \n",
    "#see the most frequent guests\n",
    "show_count = show_count.sort('Shows', ascending = False)\n",
    "show_count.head(10)"
   ]
  },
  {
   "cell_type": "markdown",
   "metadata": {},
   "source": [
    "At first glance, it would seem that groups of multiple guests returned for multiple shows.  However it seems coincidental that the number of shows equals the number of guests.  Referencing back to the original data confirms that it was compiled such that shows with multiple guests have a line for each guest, even though the entire group is listed in each row.  It is easy enough to look past this and see that there are several guests tied for first with two appearances, but for the sake of this exercise, let's see if we can remove the multiple guests with a regular expression."
   ]
  },
  {
   "cell_type": "code",
   "execution_count": 12,
   "metadata": {
    "collapsed": false,
    "scrolled": true
   },
   "outputs": [
    {
     "data": {
      "text/plain": [
       "103     True\n",
       "150    False\n",
       "25     False\n",
       "89     False\n",
       "95     False\n",
       "101    False\n",
       "55      True\n",
       "48     False\n",
       "45      True\n",
       "115    False\n",
       "79     False\n",
       "30     False\n",
       "39     False\n",
       "9      False\n",
       "139    False\n",
       "96     False\n",
       "108    False\n",
       "107    False\n",
       "106    False\n",
       "105    False\n",
       "104    False\n",
       "145    False\n",
       "146    False\n",
       "102    False\n",
       "147    False\n",
       "100    False\n",
       "99     False\n",
       "98     False\n",
       "97     False\n",
       "148    False\n",
       "       ...  \n",
       "66     False\n",
       "67     False\n",
       "68     False\n",
       "70     False\n",
       "61     False\n",
       "71     False\n",
       "72     False\n",
       "73     False\n",
       "74     False\n",
       "1      False\n",
       "76     False\n",
       "62     False\n",
       "60     False\n",
       "41     False\n",
       "50     False\n",
       "42     False\n",
       "43     False\n",
       "44     False\n",
       "46     False\n",
       "47     False\n",
       "49     False\n",
       "51     False\n",
       "59     False\n",
       "52     False\n",
       "53     False\n",
       "54     False\n",
       "56     False\n",
       "57     False\n",
       "58     False\n",
       "75     False\n",
       "Name: Raw_Guest_List, dtype: bool"
      ]
     },
     "execution_count": 12,
     "metadata": {},
     "output_type": "execute_result"
    }
   ],
   "source": [
    "pattern = ','\n",
    "show_count.Raw_Guest_List.str.contains(pattern)"
   ]
  },
  {
   "cell_type": "code",
   "execution_count": 13,
   "metadata": {
    "collapsed": false,
    "scrolled": true
   },
   "outputs": [],
   "source": [
    "idx = show_count.Raw_Guest_List.str.contains(pattern)"
   ]
  },
  {
   "cell_type": "code",
   "execution_count": 14,
   "metadata": {
    "collapsed": false,
    "scrolled": true
   },
   "outputs": [
    {
     "name": "stdout",
     "output_type": "stream",
     "text": [
      "103    False\n",
      "150     True\n",
      "25      True\n",
      "89      True\n",
      "95      True\n",
      "101     True\n",
      "55     False\n",
      "48      True\n",
      "45     False\n",
      "115     True\n",
      "79      True\n",
      "30      True\n",
      "39      True\n",
      "9       True\n",
      "139     True\n",
      "96      True\n",
      "108     True\n",
      "107     True\n",
      "106     True\n",
      "105     True\n",
      "104     True\n",
      "145     True\n",
      "146     True\n",
      "102     True\n",
      "147     True\n",
      "100     True\n",
      "99      True\n",
      "98      True\n",
      "97      True\n",
      "148     True\n",
      "       ...  \n",
      "66      True\n",
      "67      True\n",
      "68      True\n",
      "70      True\n",
      "61      True\n",
      "71      True\n",
      "72      True\n",
      "73      True\n",
      "74      True\n",
      "1       True\n",
      "76      True\n",
      "62      True\n",
      "60      True\n",
      "41      True\n",
      "50      True\n",
      "42      True\n",
      "43      True\n",
      "44      True\n",
      "46      True\n",
      "47      True\n",
      "49      True\n",
      "51      True\n",
      "59      True\n",
      "52      True\n",
      "53      True\n",
      "54      True\n",
      "56      True\n",
      "57      True\n",
      "58      True\n",
      "75      True\n",
      "Name: Raw_Guest_List, dtype: bool\n"
     ]
    }
   ],
   "source": [
    "#it does work to subset the data frame by placing the bool list \n",
    "#in brackets, but using [-idx] to subset rows where the .contains \n",
    "#function is False does not seem to work.  Perhaps there is a better \n",
    "#way to do this, but for now I'll just assign the index as its inverse.\n",
    "idx = -idx\n",
    "print idx"
   ]
  },
  {
   "cell_type": "code",
   "execution_count": 15,
   "metadata": {
    "collapsed": false,
    "scrolled": true
   },
   "outputs": [
    {
     "data": {
      "text/html": [
       "<div>\n",
       "<table border=\"1\" class=\"dataframe\">\n",
       "  <thead>\n",
       "    <tr style=\"text-align: right;\">\n",
       "      <th></th>\n",
       "      <th>Raw_Guest_List</th>\n",
       "      <th>Shows</th>\n",
       "    </tr>\n",
       "  </thead>\n",
       "  <tbody>\n",
       "    <tr>\n",
       "      <th>150</th>\n",
       "      <td>Yasmine Bleeth</td>\n",
       "      <td>2</td>\n",
       "    </tr>\n",
       "    <tr>\n",
       "      <th>25</th>\n",
       "      <td>Dave Foley</td>\n",
       "      <td>2</td>\n",
       "    </tr>\n",
       "    <tr>\n",
       "      <th>89</th>\n",
       "      <td>Melissa Gilbert</td>\n",
       "      <td>2</td>\n",
       "    </tr>\n",
       "    <tr>\n",
       "      <th>95</th>\n",
       "      <td>Mike Myers</td>\n",
       "      <td>2</td>\n",
       "    </tr>\n",
       "    <tr>\n",
       "      <th>101</th>\n",
       "      <td>Norm Macdonald</td>\n",
       "      <td>2</td>\n",
       "    </tr>\n",
       "    <tr>\n",
       "      <th>48</th>\n",
       "      <td>George Carlin</td>\n",
       "      <td>2</td>\n",
       "    </tr>\n",
       "    <tr>\n",
       "      <th>115</th>\n",
       "      <td>Rob Schneider</td>\n",
       "      <td>2</td>\n",
       "    </tr>\n",
       "    <tr>\n",
       "      <th>79</th>\n",
       "      <td>Kellie Martin</td>\n",
       "      <td>2</td>\n",
       "    </tr>\n",
       "    <tr>\n",
       "      <th>30</th>\n",
       "      <td>David Cross</td>\n",
       "      <td>2</td>\n",
       "    </tr>\n",
       "    <tr>\n",
       "      <th>39</th>\n",
       "      <td>Eduardo Sanchez and Daniel Myrick</td>\n",
       "      <td>2</td>\n",
       "    </tr>\n",
       "  </tbody>\n",
       "</table>\n",
       "</div>"
      ],
      "text/plain": [
       "                        Raw_Guest_List  Shows\n",
       "150                     Yasmine Bleeth      2\n",
       "25                          Dave Foley      2\n",
       "89                     Melissa Gilbert      2\n",
       "95                          Mike Myers      2\n",
       "101                     Norm Macdonald      2\n",
       "48                       George Carlin      2\n",
       "115                      Rob Schneider      2\n",
       "79                       Kellie Martin      2\n",
       "30                         David Cross      2\n",
       "39   Eduardo Sanchez and Daniel Myrick      2"
      ]
     },
     "execution_count": 15,
     "metadata": {},
     "output_type": "execute_result"
    }
   ],
   "source": [
    "show_count = show_count[idx]\n",
    "show_count.head(10)"
   ]
  },
  {
   "cell_type": "markdown",
   "metadata": {},
   "source": [
    "Alright, there we have ten of the most frequent guests on the Daily Show in 1999.  How's that for a time capsule?"
   ]
  }
 ],
 "metadata": {
  "kernelspec": {
   "display_name": "Python 2",
   "language": "python",
   "name": "python2"
  },
  "language_info": {
   "codemirror_mode": {
    "name": "ipython",
    "version": 2
   },
   "file_extension": ".py",
   "mimetype": "text/x-python",
   "name": "python",
   "nbconvert_exporter": "python",
   "pygments_lexer": "ipython2",
   "version": "2.7.10"
  }
 },
 "nbformat": 4,
 "nbformat_minor": 0
}
