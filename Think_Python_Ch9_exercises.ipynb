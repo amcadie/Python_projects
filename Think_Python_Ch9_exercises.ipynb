{
 "cells": [
  {
   "cell_type": "markdown",
   "metadata": {},
   "source": [
    "##Think Python Chapter 8 Excercises\n",
    "\n",
    "For the exercises in this chapter we need a list of English words. There are lots of word\n",
    "lists available on theWeb, but the one most suitable for our purpose is one of the word lists\n",
    "collected and contributed to the public domain by Grady Ward as part of the [Moby lexicon\n",
    "project](http://wikipedia.org/wiki/Moby_Project). It is a list of 113,809 official\n",
    "crosswords; that is, words that are considered valid in crossword puzzles and other word\n",
    "games. In the Moby collection, the filename is 113809of.fic; you can download a copy,\n",
    "with the simpler name words.txt, from http://thinkpython.com/code/words.txt.\n",
    "***"
   ]
  },
  {
   "cell_type": "markdown",
   "metadata": {},
   "source": [
    "**Exercise 9.1.** Write a program that reads words.txt and prints only the words with more than 20\n",
    "characters (not counting whitespace)."
   ]
  },
  {
   "cell_type": "code",
   "execution_count": 2,
   "metadata": {
    "collapsed": false
   },
   "outputs": [
    {
     "data": {
      "text/plain": [
       "'aa\\r\\n'"
      ]
     },
     "execution_count": 2,
     "metadata": {},
     "output_type": "execute_result"
    }
   ],
   "source": [
    "#step one is reading in the text file with the built in open function and readline method\n",
    "fin = open('words.txt') #\"fin is a common filename for a file object used for input\"\n",
    "fin.readline()"
   ]
  },
  {
   "cell_type": "code",
   "execution_count": 3,
   "metadata": {
    "collapsed": false
   },
   "outputs": [
    {
     "data": {
      "text/plain": [
       "'aah'"
      ]
     },
     "execution_count": 3,
     "metadata": {},
     "output_type": "execute_result"
    }
   ],
   "source": [
    "fin.readline().strip() #the built in function strip removes the newline metacharacter"
   ]
  },
  {
   "cell_type": "code",
   "execution_count": 6,
   "metadata": {
    "collapsed": false
   },
   "outputs": [],
   "source": [
    "#I'm going to make a list of all words greater than 20 characters rather than print them all in case the list is large\n",
    "long_words = []\n",
    "for line in fin:\n",
    "    word = line.strip()\n",
    "    if len(word) > 20:\n",
    "        long_words.append(word)"
   ]
  },
  {
   "cell_type": "code",
   "execution_count": 7,
   "metadata": {
    "collapsed": false
   },
   "outputs": [
    {
     "data": {
      "text/plain": [
       "3"
      ]
     },
     "execution_count": 7,
     "metadata": {},
     "output_type": "execute_result"
    }
   ],
   "source": [
    "len(long_words)"
   ]
  },
  {
   "cell_type": "markdown",
   "metadata": {},
   "source": [
    "Not surprisingly, I suppose, there don't seem to be too many words with more than 20 characters.  Let's see what we have."
   ]
  },
  {
   "cell_type": "code",
   "execution_count": 8,
   "metadata": {
    "collapsed": false
   },
   "outputs": [
    {
     "data": {
      "text/plain": [
       "['counterdemonstrations', 'hyperaggressivenesses', 'microminiaturizations']"
      ]
     },
     "execution_count": 8,
     "metadata": {},
     "output_type": "execute_result"
    }
   ],
   "source": [
    "long_words"
   ]
  },
  {
   "cell_type": "markdown",
   "metadata": {},
   "source": [
    "I'll have to keep those in mind the next time I play Scrabble!\n",
    "***"
   ]
  },
  {
   "cell_type": "markdown",
   "metadata": {},
   "source": [
    "**Exercise 9.2.** In 1939 Ernest Vincent Wright published a 50,000 word novel called Gadsby that\n",
    "does not contain the letter “e.” Since “e” is the most common letter in English, that’s not easy to\n",
    "do.\n",
    "\n",
    "In fact, it is difficult to construct a solitary thought without using that most common symbol. It is\n",
    "slow going at first, but with caution and hours of training you can gradually gain facility.\n",
    "All right, I’ll stop now.\n",
    "\n",
    "Write a function called has_no_e that returns True if the given word doesn’t have the letter “e” in\n",
    "it.\n",
    "Modify your program from the previous section to print only the words that have no “e” and compute\n",
    "the percentage of the words in the list have no “e.”"
   ]
  },
  {
   "cell_type": "code",
   "execution_count": 13,
   "metadata": {
    "collapsed": true
   },
   "outputs": [],
   "source": [
    "def has_no_e(word):\n",
    "    word = word.lower()\n",
    "    if 'e' in word:\n",
    "        return False\n",
    "    else:\n",
    "        return True"
   ]
  },
  {
   "cell_type": "code",
   "execution_count": 14,
   "metadata": {
    "collapsed": false
   },
   "outputs": [
    {
     "data": {
      "text/plain": [
       "False"
      ]
     },
     "execution_count": 14,
     "metadata": {},
     "output_type": "execute_result"
    }
   ],
   "source": [
    "#quick test\n",
    "has_no_e('Hello')"
   ]
  },
  {
   "cell_type": "code",
   "execution_count": 15,
   "metadata": {
    "collapsed": false
   },
   "outputs": [
    {
     "data": {
      "text/plain": [
       "True"
      ]
     },
     "execution_count": 15,
     "metadata": {},
     "output_type": "execute_result"
    }
   ],
   "source": [
    "has_no_e('Mars')"
   ]
  },
  {
   "cell_type": "code",
   "execution_count": 24,
   "metadata": {
    "collapsed": true
   },
   "outputs": [],
   "source": [
    "#now for the list of words in the Moby list that don't have an 'e'.\n",
    "fin = open('words.txt')\n",
    "\n",
    "no_e = []\n",
    "\n",
    "for line in fin:\n",
    "    word = line.strip()\n",
    "    if has_no_e(word):\n",
    "        no_e.append(word)"
   ]
  },
  {
   "cell_type": "code",
   "execution_count": 25,
   "metadata": {
    "collapsed": false
   },
   "outputs": [
    {
     "data": {
      "text/plain": [
       "37641"
      ]
     },
     "execution_count": 25,
     "metadata": {},
     "output_type": "execute_result"
    }
   ],
   "source": [
    "len(no_e)"
   ]
  },
  {
   "cell_type": "code",
   "execution_count": 27,
   "metadata": {
    "collapsed": false
   },
   "outputs": [
    {
     "data": {
      "text/plain": [
       "['aah',\n",
       " 'aahing',\n",
       " 'aahs',\n",
       " 'aal',\n",
       " 'aalii',\n",
       " 'aaliis',\n",
       " 'aals',\n",
       " 'aardvark',\n",
       " 'aardvarks',\n",
       " 'aardwolf',\n",
       " 'aas',\n",
       " 'aba',\n",
       " 'abaca',\n",
       " 'abacas',\n",
       " 'abaci',\n",
       " 'aback',\n",
       " 'abacus',\n",
       " 'abaft',\n",
       " 'abaka']"
      ]
     },
     "execution_count": 27,
     "metadata": {},
     "output_type": "execute_result"
    }
   ],
   "source": [
    "no_e[1:20]"
   ]
  },
  {
   "cell_type": "code",
   "execution_count": 35,
   "metadata": {
    "collapsed": false
   },
   "outputs": [
    {
     "data": {
      "text/plain": [
       "3.33"
      ]
     },
     "execution_count": 35,
     "metadata": {},
     "output_type": "execute_result"
    }
   ],
   "source": [
    "#there are quite a few hits, let's see the percentage of words with no 'e', using the file.tell method to get the total\n",
    "#word count\n",
    "\n",
    "perc = float(len(no_e)) / float(fin.tell()) * 100\n",
    "round(perc, 2)"
   ]
  },
  {
   "cell_type": "markdown",
   "metadata": {},
   "source": [
    "Out of 110,000+ words in the Moby list, around 3% have no 'e'.  Given that restricted vocabulary, Earnest Vincent Wright's book must have been quite a challenge.\n",
    "***"
   ]
  },
  {
   "cell_type": "markdown",
   "metadata": {},
   "source": [
    "**Exercise 9.3.** Write a function named avoids that takes a word and a string of forbidden letters,\n",
    "and that returns True if the word doesn’t use any of the forbidden letters.\n",
    "Modify your program to prompt the user to enter a string of forbidden letters and then print the\n",
    "number of words that don’t contain any of them. Can you find a combination of 5 forbidden letters\n",
    "that excludes the smallest number of words?"
   ]
  },
  {
   "cell_type": "code",
   "execution_count": 40,
   "metadata": {
    "collapsed": true
   },
   "outputs": [],
   "source": [
    "def avoids(word, letters):\n",
    "    word = word.lower()\n",
    "    bools = []\n",
    "    for letter in letters:\n",
    "        bool_i = letter in word\n",
    "        bools.append(bool_i)\n",
    "        \n",
    "    if True in bools:\n",
    "        return False\n",
    "    else:\n",
    "        return True\n",
    "        "
   ]
  },
  {
   "cell_type": "code",
   "execution_count": 37,
   "metadata": {
    "collapsed": false
   },
   "outputs": [
    {
     "data": {
      "text/plain": [
       "True"
      ]
     },
     "execution_count": 37,
     "metadata": {},
     "output_type": "execute_result"
    }
   ],
   "source": [
    "#testing the function\n",
    "avoids('Hello', 'zyxk')"
   ]
  },
  {
   "cell_type": "code",
   "execution_count": 41,
   "metadata": {
    "collapsed": false
   },
   "outputs": [
    {
     "data": {
      "text/plain": [
       "False"
      ]
     },
     "execution_count": 41,
     "metadata": {},
     "output_type": "execute_result"
    }
   ],
   "source": [
    "avoids('Hello', 'h')"
   ]
  },
  {
   "cell_type": "code",
   "execution_count": 43,
   "metadata": {
    "collapsed": false
   },
   "outputs": [],
   "source": [
    "#for the next part of the problem, let's first read the whole words.txt file into a list\n",
    "fin = open('words.txt')\n",
    "Moby = []\n",
    "for line in fin:\n",
    "    single_word = line.strip()\n",
    "    Moby.append(single_word)"
   ]
  },
  {
   "cell_type": "code",
   "execution_count": 44,
   "metadata": {
    "collapsed": false
   },
   "outputs": [
    {
     "data": {
      "text/plain": [
       "113809"
      ]
     },
     "execution_count": 44,
     "metadata": {},
     "output_type": "execute_result"
    }
   ],
   "source": [
    "len(Moby)"
   ]
  },
  {
   "cell_type": "code",
   "execution_count": 46,
   "metadata": {
    "collapsed": false
   },
   "outputs": [
    {
     "data": {
      "text/plain": [
       "['aah',\n",
       " 'aahed',\n",
       " 'aahing',\n",
       " 'aahs',\n",
       " 'aal',\n",
       " 'aalii',\n",
       " 'aaliis',\n",
       " 'aals',\n",
       " 'aardvark',\n",
       " 'aardvarks',\n",
       " 'aardwolf',\n",
       " 'aardwolves',\n",
       " 'aas',\n",
       " 'aasvogel',\n",
       " 'aasvogels',\n",
       " 'aba',\n",
       " 'abaca',\n",
       " 'abacas',\n",
       " 'abaci']"
      ]
     },
     "execution_count": 46,
     "metadata": {},
     "output_type": "execute_result"
    }
   ],
   "source": [
    "Moby[1:20]"
   ]
  },
  {
   "cell_type": "code",
   "execution_count": null,
   "metadata": {
    "collapsed": true
   },
   "outputs": [],
   "source": [
    "def avoids2(): #I'll write this as a function rather than a program just for ease of testing it in this notebook\n",
    "    forbidden = raw_input('Enter a string of forbidden letters:')\n",
    "    \n",
    "    for word in Moby:\n",
    "        for letter in forbidden:\n",
    "            if letter in word:\n",
    "                return False\n",
    "        return True"
   ]
  }
 ],
 "metadata": {
  "kernelspec": {
   "display_name": "Python 2",
   "language": "python",
   "name": "python2"
  },
  "language_info": {
   "codemirror_mode": {
    "name": "ipython",
    "version": 2
   },
   "file_extension": ".py",
   "mimetype": "text/x-python",
   "name": "python",
   "nbconvert_exporter": "python",
   "pygments_lexer": "ipython2",
   "version": "2.7.10"
  }
 },
 "nbformat": 4,
 "nbformat_minor": 0
}
