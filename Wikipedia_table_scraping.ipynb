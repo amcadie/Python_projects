{
 "cells": [
  {
   "cell_type": "markdown",
   "metadata": {},
   "source": [
    "#Basic Table Scraping with BeautifulSoup"
   ]
  },
  {
   "cell_type": "code",
   "execution_count": 2,
   "metadata": {
    "collapsed": false
   },
   "outputs": [
    {
     "data": {
      "text/html": [
       "<div>\n",
       "<table border=\"1\" class=\"dataframe\">\n",
       "  <thead>\n",
       "    <tr style=\"text-align: right;\">\n",
       "      <th></th>\n",
       "      <th>Country</th>\n",
       "      <th>Event</th>\n",
       "      <th>Rider</th>\n",
       "    </tr>\n",
       "  </thead>\n",
       "  <tbody>\n",
       "    <tr>\n",
       "      <th>0</th>\n",
       "      <td>Netherlands</td>\n",
       "      <td>Men's elite</td>\n",
       "      <td>Mathieu van der Poel</td>\n",
       "    </tr>\n",
       "    <tr>\n",
       "      <th>1</th>\n",
       "      <td>France</td>\n",
       "      <td>Women's elite</td>\n",
       "      <td>Pauline Ferrand-Prévot</td>\n",
       "    </tr>\n",
       "    <tr>\n",
       "      <th>2</th>\n",
       "      <td>Belgium</td>\n",
       "      <td>Men's under 23</td>\n",
       "      <td>Michael Vanthourenhout</td>\n",
       "    </tr>\n",
       "    <tr>\n",
       "      <th>3</th>\n",
       "      <td>Denmark</td>\n",
       "      <td>Men's juniors</td>\n",
       "      <td>Simon Andreassen</td>\n",
       "    </tr>\n",
       "  </tbody>\n",
       "</table>\n",
       "</div>"
      ],
      "text/plain": [
       "       Country           Event                   Rider\n",
       "0  Netherlands     Men's elite    Mathieu van der Poel\n",
       "1       France   Women's elite  Pauline Ferrand-Prévot\n",
       "2      Belgium  Men's under 23  Michael Vanthourenhout\n",
       "3      Denmark   Men's juniors        Simon Andreassen"
      ]
     },
     "execution_count": 2,
     "metadata": {},
     "output_type": "execute_result"
    }
   ],
   "source": [
    "from bs4 import BeautifulSoup\n",
    "from urllib2 import urlopen\n",
    "import pandas as pd\n",
    "\n",
    "wiki = 'https://en.wikipedia.org/wiki/UCI_Cyclo-cross_World_Championships' \n",
    "\n",
    "wiki_handle = urlopen(wiki)\n",
    "\n",
    "soup = BeautifulSoup(wiki_handle)\n",
    "\n",
    "table = soup.find('table', class_='wikitable')\n",
    "\n",
    "#initialze new variables to hold the scraped data\n",
    "Event = []\n",
    "Rider = []\n",
    "Country = []\n",
    "\n",
    "#<tr> pair contains a row, <td> pair contains column-wise elements\n",
    "#skip the first <tr> pair, which contains the column names in <th> pairs\n",
    "for row in table.find_all('tr')[1:]:\n",
    "    #create list of <td> pairs within each <tr> pair\n",
    "    col = row.find_all('td')\n",
    "    \n",
    "    #pull element from first <td> pair and add it to the first column list\n",
    "    data = col[0].string.strip()\n",
    "    Event.append(data)\n",
    "    \n",
    "    data = col[1].string.strip()\n",
    "    Rider.append(data)\n",
    "    \n",
    "    data = col[2].string.strip()\n",
    "    Country.append(data)\n",
    "    \n",
    "current_winners = pd.DataFrame({'Event' : Event, 'Rider' : Rider, \\\n",
    "'Country' : Country})\n",
    "\n",
    "current_winners"
   ]
  },
  {
   "cell_type": "code",
   "execution_count": null,
   "metadata": {
    "collapsed": true
   },
   "outputs": [],
   "source": []
  }
 ],
 "metadata": {
  "kernelspec": {
   "display_name": "Python 2",
   "language": "python",
   "name": "python2"
  },
  "language_info": {
   "codemirror_mode": {
    "name": "ipython",
    "version": 2
   },
   "file_extension": ".py",
   "mimetype": "text/x-python",
   "name": "python",
   "nbconvert_exporter": "python",
   "pygments_lexer": "ipython2",
   "version": "2.7.10"
  }
 },
 "nbformat": 4,
 "nbformat_minor": 0
}
