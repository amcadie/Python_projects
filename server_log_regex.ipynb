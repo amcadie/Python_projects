{
 "cells": [
  {
   "cell_type": "code",
   "execution_count": 1,
   "metadata": {
    "collapsed": true
   },
   "outputs": [],
   "source": [
    "import pandas as pd\n",
    "import re"
   ]
  },
  {
   "cell_type": "code",
   "execution_count": 2,
   "metadata": {
    "collapsed": false
   },
   "outputs": [],
   "source": [
    "#using regex to split a web log file into a useable data frame\n",
    "\n",
    "logs = [\"127.0.0.1 user-identifier frank [10/Oct/2000:13:55:36 -0700] 'GET /apache_pb.gif HTTP/1.0' 200 2326\",\\\n",
    "       \"204.31.113.138 - - [03/Jul/1996:06:56:12 -0800] 'GET /PowerBuilder/Compny3.htm HTTP/1.0' 200 5593\",\\\n",
    "       \"65.26.149.185 - - [04/Nov/2002:01:51:53 +0000] 'GET /ivsat.htm HTTP/1.1' 200 9430\"]"
   ]
  },
  {
   "cell_type": "code",
   "execution_count": 3,
   "metadata": {
    "collapsed": true
   },
   "outputs": [],
   "source": [
    "#define features to be extracted\n",
    "ip = []\n",
    "user = []\n",
    "timezone = []\n",
    "status = []\n",
    "size = []"
   ]
  },
  {
   "cell_type": "code",
   "execution_count": 4,
   "metadata": {
    "collapsed": false
   },
   "outputs": [],
   "source": [
    "for log in logs:\n",
    "    ip_indiv = re.findall(r'^[0-9]+\\.[0-9]+\\.[0-9]+\\.[0-9]+', log)[0] #just the captured string, not a list of one\n",
    "    ip.append(ip_indiv)\n",
    "    \n",
    "    if re.search(r'identifier', log):\n",
    "        user_indiv = re.findall(r'identifier\\s([a-z]+)\\s', log)[0]\n",
    "    else:\n",
    "        user_indiv = 'missing'\n",
    "    user.append(user_indiv)\n",
    "    \n",
    "    timezone_indiv = re.findall(r'-[0-9]{4}|\\+[0-9]{4}', log)[0]\n",
    "    timezone.append(timezone_indiv)\n",
    "    \n",
    "    status_indiv = re.findall(r'\\s([0-9]{3})\\s', log)[0]\n",
    "    status.append(status_indiv)\n",
    "    \n",
    "    size_indiv = re.findall(r'[0-9]+$', log)[0]\n",
    "    size.append(size_indiv)\n",
    "\n",
    "\n"
   ]
  },
  {
   "cell_type": "code",
   "execution_count": 5,
   "metadata": {
    "collapsed": true
   },
   "outputs": [],
   "source": [
    "log_df = pd.DataFrame({'ip_address' : ip, 'user' : user, 'timezone' : timezone, 'status' : status, 'size' : size})"
   ]
  },
  {
   "cell_type": "code",
   "execution_count": 6,
   "metadata": {
    "collapsed": false
   },
   "outputs": [
    {
     "data": {
      "text/html": [
       "<div>\n",
       "<table border=\"1\" class=\"dataframe\">\n",
       "  <thead>\n",
       "    <tr style=\"text-align: right;\">\n",
       "      <th></th>\n",
       "      <th>ip_address</th>\n",
       "      <th>size</th>\n",
       "      <th>status</th>\n",
       "      <th>timezone</th>\n",
       "      <th>user</th>\n",
       "    </tr>\n",
       "  </thead>\n",
       "  <tbody>\n",
       "    <tr>\n",
       "      <th>0</th>\n",
       "      <td>127.0.0.1</td>\n",
       "      <td>2326</td>\n",
       "      <td>200</td>\n",
       "      <td>-0700</td>\n",
       "      <td>frank</td>\n",
       "    </tr>\n",
       "    <tr>\n",
       "      <th>1</th>\n",
       "      <td>204.31.113.138</td>\n",
       "      <td>5593</td>\n",
       "      <td>200</td>\n",
       "      <td>-0800</td>\n",
       "      <td>missing</td>\n",
       "    </tr>\n",
       "    <tr>\n",
       "      <th>2</th>\n",
       "      <td>65.26.149.185</td>\n",
       "      <td>9430</td>\n",
       "      <td>200</td>\n",
       "      <td>+0000</td>\n",
       "      <td>missing</td>\n",
       "    </tr>\n",
       "  </tbody>\n",
       "</table>\n",
       "</div>"
      ],
      "text/plain": [
       "       ip_address  size status timezone     user\n",
       "0       127.0.0.1  2326    200    -0700    frank\n",
       "1  204.31.113.138  5593    200    -0800  missing\n",
       "2   65.26.149.185  9430    200    +0000  missing"
      ]
     },
     "execution_count": 6,
     "metadata": {},
     "output_type": "execute_result"
    }
   ],
   "source": [
    "log_df"
   ]
  }
 ],
 "metadata": {
  "kernelspec": {
   "display_name": "Python 2",
   "language": "python",
   "name": "python2"
  },
  "language_info": {
   "codemirror_mode": {
    "name": "ipython",
    "version": 2
   },
   "file_extension": ".py",
   "mimetype": "text/x-python",
   "name": "python",
   "nbconvert_exporter": "python",
   "pygments_lexer": "ipython2",
   "version": "2.7.10"
  }
 },
 "nbformat": 4,
 "nbformat_minor": 0
}
